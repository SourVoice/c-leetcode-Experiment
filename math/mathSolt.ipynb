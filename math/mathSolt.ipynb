{
 "cells": [
  {
   "cell_type": "markdown",
   "metadata": {},
   "source": [
    "# ${\\LaTeX}$"
   ]
  },
  {
   "cell_type": "code",
   "execution_count": 8,
   "metadata": {},
   "outputs": [
    {
     "data": {
      "text/html": [
       "<div><pre style=\"&#102;&#111;&#110;&#116;&#45;&#102;&#97;&#109;&#105;&#108;&#121;&#58;&#32;&#34;&#67;&#111;&#117;&#114;&#105;&#101;&#114;&#32;&#78;&#101;&#119;&#34;&#44;&#67;&#111;&#117;&#114;&#105;&#101;&#114;&#44;&#109;&#111;&#110;&#111;&#115;&#112;&#97;&#99;&#101;&#59;\">&#36;&#91;&#118;&#101;&#114;&#115;&#105;&#111;&#110;&#93;</pre></div>"
      ],
      "text/plain": [
       "$[version]"
      ]
     },
     "execution_count": 8,
     "metadata": {
      "text/html": [],
      "text/plain": []
     },
     "output_type": "execute_result"
    }
   ],
   "source": [
    "$version"
   ]
  },
  {
   "cell_type": "markdown",
   "metadata": {},
   "source": [
    "$\\displaystyle \\int_0^1sin(x){\\rm d}x$"
   ]
  },
  {
   "cell_type": "code",
   "execution_count": 2,
   "metadata": {},
   "outputs": [
    {
     "data": {
      "text/html": [
       "<div><img alt=\"Output\" src=\"data:image/png;base64,iVBORw0KGgoAAAANSUhEUgAAADUAAAAPCAIAAADLZRDsAAAAhXpUWHRSYXcgcHJvZmlsZSB0eXBlIGV4aWYAAHjaVYvBDcMwDAP/mqIjyLJM2uMYiQNkg45fuu0n9yApgbT1vi97felp2dgxABc5csRU6P6juNciDXn+X9MfZGWgoRhTluEkhnJXkqKFN+LCAahYcIbnIV8gNQN3o86928QyPusLVffpbh/5eCey76LuBgAAAAlwSFlzAAALEwAACxMBAJqcGAAAADx0RVh0U29mdHdhcmUAQ3JlYXRlZCB3aXRoIHRoZSBXb2xmcmFtIExhbmd1YWdlIDogd3d3LndvbGZyYW0uY29tXKKmhQAAACF0RVh0Q3JlYXRpb24gVGltZQAyMDIxOjEyOjA3IDIxOjU4OjMxYdQ8UwAAATlJREFUSIntVbtxwzAMhXwZhXKR8wTUBFaaTEGVygAegiqdEVKlMTCBPYEvDbELUtCKSX1IxZdLXORVOuiBeHhPPBUiAneM1V8LyOBfHwAAMDPzLby8PmqKHlW3ZMbEEeSWk90hnPKQ5HJXlS8bFNnepCuAUmohLV4l6R8f3k4G9yNx3FW9pQ1NFDM+UxM0UpPmyzyc1aCtS1SDZzRgcOYgxOEbNAAGRdCMJqANC94/jpDa3Xu6a31aqt2Z04cDACgf9Wsd+pnEdu/suS6KGvDYppJfAQCzi9ALVOsNXKbnodqjiMjze5x6ClrrPCmRr89vGNtMvjEh7pnMV1s32R/nm9bnT7oufOm81r4OdzbwYvghDvShgWjDWOI39f0Exv6lyBP3437xK/rKEoiIsj8fZiKC9VNwoT8B99+E5l3eBsgAAAAASUVORK5CYII=\"></div>"
      ],
      "text/plain": [
       "-Cos[x]"
      ]
     },
     "execution_count": 2,
     "metadata": {
      "text/html": [],
      "text/plain": []
     },
     "output_type": "execute_result"
    }
   ],
   "source": [
    "Integrate[Sin[x], x]"
   ]
  },
  {
   "cell_type": "markdown",
   "metadata": {},
   "source": [
    "$\n",
    "\\displaystyle \\int_{-1}^{1}\\int_{-\\sqrt{1 - y^2}}^{\\sqrt{1 - y^2}} 1{\\rm d}y{\\rm d}x\n",
    "$"
   ]
  },
  {
   "cell_type": "code",
   "execution_count": 1,
   "metadata": {},
   "outputs": [
    {
     "data": {
      "text/html": [
       "<div><img alt=\"Output\" src=\"data:image/png;base64,iVBORw0KGgoAAAANSUhEUgAAAAgAAAAPCAIAAABWaBlkAAAAhXpUWHRSYXcgcHJvZmlsZSB0eXBlIGV4aWYAAHjaVYvBDcMwDAP/mqIjyLJM2uMYiQNkg45fuu0n9yApgbT1vi97felp2dgxABc5csRU6P6juNciDXn+X9MfZGWgoRhTluEkhnJXkqKFN+LCAahYcIbnIV8gNQN3o86928QyPusLVffpbh/5eCey76LuBgAAAAlwSFlzAAALEwAACxMBAJqcGAAAADx0RVh0U29mdHdhcmUAQ3JlYXRlZCB3aXRoIHRoZSBXb2xmcmFtIExhbmd1YWdlIDogd3d3LndvbGZyYW0uY29tXKKmhQAAACF0RVh0Q3JlYXRpb24gVGltZQAyMDIxOjEyOjA3IDIwOjIwOjM1t1oHAQAAAGZJREFUGJW9ULENwCAMM70l5Yh+UPFHV16BYxp+SfglHSgqEl261ItlW3KsODPDG5ZX96cAZpq2yT0Y1qAp8cjWqxRYR+43iiAQgCrw9AQ1i480rSr59HFvkgKk3OXMaiO0aff5iRek/0R6HtcwAAAAAABJRU5ErkJggg==\"></div>"
      ],
      "text/plain": [
       "Pi"
      ]
     },
     "execution_count": 1,
     "metadata": {
      "text/html": [],
      "text/plain": []
     },
     "output_type": "execute_result"
    }
   ],
   "source": [
    "Integrate[1, {y, -1, 1}, {x, -Sqrt[1 - y^2], Sqrt[1 - y^2]}]"
   ]
  },
  {
   "cell_type": "markdown",
   "metadata": {},
   "source": [
    "$\n",
    "\\displaystyle \\int_{1}^{\\infty} e^{{-e}^{x^2}} {\\rm d}x\n",
    "$"
   ]
  },
  {
   "cell_type": "code",
   "execution_count": 3,
   "metadata": {},
   "outputs": [
    {
     "data": {
      "text/html": [
       "<div><img alt=\"Output\" src=\"data:image/png;base64,iVBORw0KGgoAAAANSUhEUgAAAEUAAAAjCAIAAABNQlA5AAAAhXpUWHRSYXcgcHJvZmlsZSB0eXBlIGV4aWYAAHjaVYvBDcMwDAP/mqIjyLJM2uMYiQNkg45fuu0n9yApgbT1vi97felp2dgxABc5csRU6P6juNciDXn+X9MfZGWgoRhTluEkhnJXkqKFN+LCAahYcIbnIV8gNQN3o86928QyPusLVffpbh/5eCey76LuBgAAAAlwSFlzAAALEwAACxMBAJqcGAAAADx0RVh0U29mdHdhcmUAQ3JlYXRlZCB3aXRoIHRoZSBXb2xmcmFtIExhbmd1YWdlIDogd3d3LndvbGZyYW0uY29tXKKmhQAAACF0RVh0Q3JlYXRpb24gVGltZQAyMDIxOjEyOjA4IDAwOjAxOjIwr3mqOgAAAqxJREFUWIXtmTF24jAQhn/25SiyC7+cQJzAuHGVlk4uvQ3dltu5kUpvR5vKjaUTcAOeCo/uoi0ALyxOXl4kQ7Kbr5Gw8Yx+eTQaxMJ7j3+Ib/cegFPVcrlcVsrFsefvDBF570lyLimCuYeXJq2xAICs3NQ5izN1kzB2tP6YRnEzoVHLs6k6zN+8kBRCxzF1rYekvLZNpDXRodVxBZIUIkqoee+n9Fy8neMlrY+eJXnvKUTS+PChowUAzjnnPIqqq/XjBqT5S8GZhcc4Q7essC27dVfucrDW+zbU5jlX8zcVbp60lFLT2AZBkiNONrvmjXpiQlIIESk9X3Hz/dRUa1u27e6HXVcmvvnp/ScuzqimQ1YiTeo8b3c5AJzayMyix7lT8cIYc4YGZJuiAKg3LmR3Ptodt+AJ5o83wnDqJkVIqeEc9U1D1KtX4nQWPWwEQJ6ksLYngIhMQNXJWF5kGZJXvxQab86o5ufzHo+PT5u2npx9ltdtDufA3vl2nKmaDgDKMju/bqrF6pfQvs2PH/aSgvI1SSGlPJZepMUsmV7LsbYjyYW+GKAWgNDea3Hc0ULizfTYpNaWiXPOOSSlHeJnYNPZ8pQIWfGUXd7NW5L71WKxgt7VDBHWT/bHQ7KpZ0jBWfb6igE452M/RE8C2wN2wPnyj00C9GMSIWsv75oqeX7a7rZyv1oqhzA9rG7Twe6f15UyxqiqqkLS14tOCjSVMs4ZpTpg6K0dDm4OKWBbM7B6K/E9WSoXo34jmv9H31s9xKgP5gm09/m4+/lOZL70fGz+Bz0JADijqninljfjSg8BAJxqBgD7Ww8nmL/1mAEFA1jd1kU2+cTH5lKPU0M6XfR/Fh7gjGqGtEwxdB02bX3vEQUy1hOX5YUUh6KV81gny7dh4b/+z/rI/AbNz75OgeeDtQAAAABJRU5ErkJggg==\"></div>"
      ],
      "text/plain": [
       "              2\n",
       "             x\n",
       "           -E\n",
       "Integrate[E    , {x, 1, Infinity}]"
      ]
     },
     "execution_count": 3,
     "metadata": {
      "text/html": [],
      "text/plain": []
     },
     "output_type": "execute_result"
    }
   ],
   "source": [
    "Integrate[E^-E^x^2, {x, 1, \\[Infinity]}]"
   ]
  },
  {
   "cell_type": "markdown",
   "metadata": {},
   "source": [
    "##### 上式的近似结果↓"
   ]
  },
  {
   "cell_type": "code",
   "execution_count": 4,
   "metadata": {},
   "outputs": [
    {
     "data": {
      "text/html": [
       "<div><pre style=\"&#102;&#111;&#110;&#116;&#45;&#102;&#97;&#109;&#105;&#108;&#121;&#58;&#32;&#34;&#67;&#111;&#117;&#114;&#105;&#101;&#114;&#32;&#78;&#101;&#119;&#34;&#44;&#67;&#111;&#117;&#114;&#105;&#101;&#114;&#44;&#109;&#111;&#110;&#111;&#115;&#112;&#97;&#99;&#101;&#59;\">&#48;&#46;&#48;&#48;&#56;&#52;&#57;&#56;&#51;&#56;</pre></div>"
      ],
      "text/plain": [
       "0.00849838"
      ]
     },
     "execution_count": 4,
     "metadata": {
      "text/html": [],
      "text/plain": []
     },
     "output_type": "execute_result"
    }
   ],
   "source": [
    "NIntegrate[E^(-E^x^2), {x, 1, \\[Infinity]}]"
   ]
  },
  {
   "cell_type": "markdown",
   "metadata": {},
   "source": [
    "$\\displaystyle \\int_{0}^{\\infty} e^{{-x}^2}{\\rm d}x$"
   ]
  },
  {
   "cell_type": "code",
   "execution_count": 5,
   "metadata": {},
   "outputs": [
    {
     "data": {
      "text/html": [
       "<div><img alt=\"Output\" src=\"data:image/png;base64,iVBORw0KGgoAAAANSUhEUgAAAB4AAAAtCAIAAAA2vEz2AAAAhXpUWHRSYXcgcHJvZmlsZSB0eXBlIGV4aWYAAHjaVYvBDcMwDAP/mqIjyLJM2uMYiQNkg45fuu0n9yApgbT1vi97felp2dgxABc5csRU6P6juNciDXn+X9MfZGWgoRhTluEkhnJXkqKFN+LCAahYcIbnIV8gNQN3o86928QyPusLVffpbh/5eCey76LuBgAAAAlwSFlzAAALEwAACxMBAJqcGAAAADx0RVh0U29mdHdhcmUAQ3JlYXRlZCB3aXRoIHRoZSBXb2xmcmFtIExhbmd1YWdlIDogd3d3LndvbGZyYW0uY29tXKKmhQAAACF0RVh0Q3JlYXRpb24gVGltZQAyMDIxOjEyOjA4IDAwOjA2OjU1DYXwywAAAZlJREFUSIntlq1yg0AQx5dOBTKOuJg2xCWamDgmE3NPQXElLjKPcCg0Miqq5CQOCzM1AUTeIBLcVbQlQA64kCDa4W/uuI8fO3t7tytQSqEbPXXE7Rb9XD/tuq5t26PRqBE0m80QQoUhWqvNZnM+n+vXVKnBIWmaDgaDRpOZqkOfTidJktpxG9CEkLL7HoUOgmAymdyLTtMUY0wIySbu8XIBjTFeLBa73S6bIISoqnq1PjbnQllvBzY7Hy77/d7zvO++YRhJkrDDKsLYybccwYcQsm07+xRFkW1OBPCab9kq30ZZln3fB4DpdFq15xDCagkAcQjjJT9a1/X1ei1Jkq7r7B2xGY7fa4iZysEniqIsy8fjcTgcMi02PzLwywrCihMEANYbkiSJZVns83OcqDQQMRdSSqlA+1TQo/8f+ueib7fbh+AMw8he+f7K9Oge/bfQl5ppbsbc7Orq55JbsaI5vz1QcHWmLYgHnZOjAWg1xVhet/k6Dj9BQzz1DadD2phM+R0SYeUmLi+6BZcPHWGl6EPOn3SYZb4AOvlOzqeX/c8AAAAASUVORK5CYII=\"></div>"
      ],
      "text/plain": [
       "Sqrt[Pi]\n",
       "--------\n",
       "   2"
      ]
     },
     "execution_count": 5,
     "metadata": {
      "text/html": [],
      "text/plain": []
     },
     "output_type": "execute_result"
    }
   ],
   "source": [
    "Integrate[E^(-x^2), {x, 0, \\[Infinity]}]"
   ]
  }
 ],
 "metadata": {
  "interpreter": {
   "hash": "22800efcd4c49881911a0b2d8a79797207328a6a642f3a84c2d705a7929860d9"
  },
  "kernelspec": {
   "display_name": "Wolfram Language 11.3",
   "language": "Wolfram Language",
   "name": "wolframlanguage11.3"
  },
  "language_info": {
   "codemirror_mode": "mathematica",
   "file_extension": ".m",
   "mimetype": "application/vnd.wolfram.m",
   "name": "Wolfram Language",
   "pygments_lexer": "mathematica",
   "version": "12.0"
  },
  "orig_nbformat": 4
 },
 "nbformat": 4,
 "nbformat_minor": 2
}
